{
 "cells": [
  {
   "cell_type": "markdown",
   "metadata": {},
   "source": [
    "# Loading images from the Quick Draw Dataset 2k examples\n",
    "\n",
    "\n",
    "get the data at https://console.cloud.google.com/storage/browser/quickdraw_dataset/full/numpy_bitmap?pli=1\n"
   ]
  },
  {
   "cell_type": "code",
   "execution_count": 1,
   "metadata": {
    "collapsed": false
   },
   "outputs": [
    {
     "name": "stderr",
     "output_type": "stream",
     "text": [
      "Using TensorFlow backend.\n"
     ]
    }
   ],
   "source": [
    "%matplotlib inline\n",
    "import matplotlib.pyplot as plt\n",
    "\n",
    "import keras\n",
    "from keras.datasets import cifar10\n",
    "from keras.preprocessing.image import ImageDataGenerator\n",
    "from keras.models import Sequential, Model, load_model\n",
    "from keras.layers import Dense, Dropout, Activation, Flatten, Input\n",
    "from keras.layers import Dense, Dropout, Flatten,Input, BatchNormalization\n",
    "from keras.layers import Conv2D, MaxPooling2D\n",
    "import keras.backend as K\n",
    "\n",
    "import tensorflow as tf\n",
    "import pandas as pd\n",
    "import os\n",
    "import pickle\n",
    "import numpy as np"
   ]
  },
  {
   "cell_type": "code",
   "execution_count": 3,
   "metadata": {
    "collapsed": false
   },
   "outputs": [
    {
     "name": "stdout",
     "output_type": "stream",
     "text": [
      "2.0.5\n",
      "1.3.0\n"
     ]
    }
   ],
   "source": [
    "print(keras.__version__)\n",
    "print(tf.__version__)"
   ]
  },
  {
   "cell_type": "code",
   "execution_count": 4,
   "metadata": {
    "collapsed": true
   },
   "outputs": [],
   "source": [
    "num_examples_per_class = 2000\n",
    "\n",
    "classes = ['airplane','alarm clock','ambulance','angel','ant','anvil','apple','axe',\n",
    "                  'banana','bandage','barn','baseball bat','baseball','basket',\n",
    "                  'basketball','bathtub','beach','bear','beard','bed','bee','belt',\n",
    "                  'bicycle','binoculars','birthday cake','blueberry',\n",
    "                  'book','boomerang','bottlecap','bowtie','bracelet','brain',\n",
    "                  'bread','broom','bulldozer','bus','bush','butterfly','cactus','cake']"
   ]
  },
  {
   "cell_type": "code",
   "execution_count": 5,
   "metadata": {
    "collapsed": false
   },
   "outputs": [
    {
     "data": {
      "text/plain": [
       "40"
      ]
     },
     "execution_count": 5,
     "metadata": {},
     "output_type": "execute_result"
    }
   ],
   "source": [
    "len(classes)"
   ]
  },
  {
   "cell_type": "markdown",
   "metadata": {},
   "source": [
    "## Load the image data from scratch\n",
    "\n",
    "Only use if you are downloading the raw data and doing it yourself"
   ]
  },
  {
   "cell_type": "code",
   "execution_count": null,
   "metadata": {
    "collapsed": true
   },
   "outputs": [],
   "source": [
    "#This cell is only if you are loading the data from scratch\n",
    "# get the data \n",
    "quickdraws = [np.load(\"../../data/{}.npy\".format(qdraw))[:num_examples_per_class] for qdraw in classes]\n",
    "\n",
    "# Concat the arrays together\n",
    "x_data = np.concatenate(quickdraws,axis=0)\n",
    "\n",
    "x_data.shape"
   ]
  },
  {
   "cell_type": "code",
   "execution_count": 5,
   "metadata": {
    "collapsed": true
   },
   "outputs": [],
   "source": [
    "np.save('x_data_40_classes_2k.npy',x_data)"
   ]
  },
  {
   "cell_type": "markdown",
   "metadata": {},
   "source": [
    "## Use this cell to load the premade datasets that I made"
   ]
  },
  {
   "cell_type": "code",
   "execution_count": 7,
   "metadata": {
    "collapsed": true
   },
   "outputs": [],
   "source": [
    "x_data = np.load(\"./data/x_data_40_classes_2k.npy\")"
   ]
  },
  {
   "cell_type": "code",
   "execution_count": 8,
   "metadata": {
    "collapsed": false
   },
   "outputs": [
    {
     "data": {
      "text/plain": [
       "(80000, 784)"
      ]
     },
     "execution_count": 8,
     "metadata": {},
     "output_type": "execute_result"
    }
   ],
   "source": [
    "x_data.shape"
   ]
  },
  {
   "cell_type": "markdown",
   "metadata": {},
   "source": [
    "## Lets make some labels for our data"
   ]
  },
  {
   "cell_type": "code",
   "execution_count": 9,
   "metadata": {
    "collapsed": false
   },
   "outputs": [
    {
     "data": {
      "text/plain": [
       "(80000,)"
      ]
     },
     "execution_count": 9,
     "metadata": {},
     "output_type": "execute_result"
    }
   ],
   "source": [
    "labels = [np.full((num_examples_per_class,), classes.index(qdraw)) for qdraw in classes]\n",
    "\n",
    "## Concat the arrays together\n",
    "y_data = np.concatenate(labels,axis=0)\n",
    "y_data.shape"
   ]
  },
  {
   "cell_type": "code",
   "execution_count": 10,
   "metadata": {
    "collapsed": false
   },
   "outputs": [
    {
     "name": "stdout",
     "output_type": "stream",
     "text": [
      "(80000, 784)\n",
      "(80000,)\n"
     ]
    }
   ],
   "source": [
    "print(x_data.shape)\n",
    "print(y_data.shape)"
   ]
  },
  {
   "cell_type": "markdown",
   "metadata": {},
   "source": [
    "## lets look at the Images "
   ]
  },
  {
   "cell_type": "code",
   "execution_count": 11,
   "metadata": {
    "collapsed": true
   },
   "outputs": [],
   "source": [
    "def show_object(obj):\n",
    "    # Reshape 784 array into 28x28 image\n",
    "    image = obj.reshape([28,28])\n",
    "    fig, axes = plt.subplots(1, )\n",
    "    fig.subplots_adjust(hspace=0.5, wspace=0.5)\n",
    "    plt.imshow(image, cmap='gray_r')\n",
    "    plt.show()"
   ]
  },
  {
   "cell_type": "code",
   "execution_count": 12,
   "metadata": {
    "collapsed": false
   },
   "outputs": [
    {
     "data": {
      "image/png": "[encoded data removed]",
      "text/plain": [
       "<matplotlib.figure.Figure at 0x122bc2e10>"
      ]
     },
     "metadata": {},
     "output_type": "display_data"
    },
    {
     "name": "stdout",
     "output_type": "stream",
     "text": [
      "26\n",
      "book\n"
     ]
    }
   ],
   "source": [
    "show_object(x_data[53000])\n",
    "print(y_data[53000])\n",
    "print (classes[y_data[53000]])"
   ]
  },
  {
   "cell_type": "code",
   "execution_count": 16,
   "metadata": {
    "collapsed": true
   },
   "outputs": [],
   "source": [
    "#shuffling function\n",
    "def unison_shuffled_copies(a, b):\n",
    "    assert len(a) == len(b)\n",
    "    p = np.random.permutation(len(a))\n",
    "    return a[p], b[p]"
   ]
  },
  {
   "cell_type": "code",
   "execution_count": 17,
   "metadata": {
    "collapsed": true
   },
   "outputs": [],
   "source": [
    "x_data,y_data = unison_shuffled_copies(x_data,y_data)"
   ]
  },
  {
   "cell_type": "code",
   "execution_count": 18,
   "metadata": {
    "collapsed": false
   },
   "outputs": [
    {
     "data": {
      "image/png": "[encoded data removed]",
      "text/plain": [
       "<matplotlib.figure.Figure at 0x129d335c0>"
      ]
     },
     "metadata": {},
     "output_type": "display_data"
    },
    {
     "name": "stdout",
     "output_type": "stream",
     "text": [
      "25\n",
      "blueberry\n"
     ]
    }
   ],
   "source": [
    "show_object(x_data[0])\n",
    "print (y_data[0])\n",
    "print (classes[y_data[0]])"
   ]
  },
  {
   "cell_type": "code",
   "execution_count": 19,
   "metadata": {
    "collapsed": false
   },
   "outputs": [
    {
     "name": "stdout",
     "output_type": "stream",
     "text": [
      "x_train shape: (64000, 28, 28, 1)\n",
      "64000 train samples\n",
      "16000 test samples\n"
     ]
    }
   ],
   "source": [
    "from sklearn.model_selection import train_test_split\n",
    "x_train, x_test, y_train, y_test = train_test_split(x_data, y_data, test_size=0.2 )\n",
    "\n",
    "img_rows = 28\n",
    "img_cols = 28\n",
    "x_train = x_train.reshape(x_train.shape[0], img_rows, img_cols, 1)\n",
    "x_test = x_test.reshape(x_test.shape[0], img_rows, img_cols, 1)\n",
    "input_shape = (img_rows, img_cols, 1)\n",
    "\n",
    "x_train = x_train.astype('float32')\n",
    "x_test = x_test.astype('float32')\n",
    "x_train /= 255\n",
    "x_test /= 255\n",
    "print('x_train shape:', x_train.shape)\n",
    "print(x_train.shape[0], 'train samples')\n",
    "print(x_test.shape[0], 'test samples')"
   ]
  },
  {
   "cell_type": "code",
   "execution_count": 20,
   "metadata": {
    "collapsed": true
   },
   "outputs": [],
   "source": [
    "# convert class vectors to binary class matrices\n",
    "num_classes = 40\n",
    "y_train = keras.utils.to_categorical(y_train, num_classes)\n",
    "y_test = keras.utils.to_categorical(y_test, num_classes)"
   ]
  },
  {
   "cell_type": "code",
   "execution_count": 21,
   "metadata": {
    "collapsed": true
   },
   "outputs": [],
   "source": [
    "Inp=Input(shape=input_shape)\n",
    "x = Conv2D(32, kernel_size=(3, 3), activation='relu',name = 'Conv_01')(Inp)\n",
    "x = Conv2D(64, (3, 3), activation='relu',name = 'Conv_02')(x)\n",
    "x = MaxPooling2D(pool_size=(2, 2),name = 'MaxPool_01')(x)\n",
    "x = Dropout(0.25,name = 'Dropout_01')(x)\n",
    "x = Flatten(name = 'Flatten_01')(x)\n",
    "x = Dense(128, activation='relu',name = 'Dense_01')(x)\n",
    "x = BatchNormalization()(x)\n",
    "x = Dropout(0.5,name = 'Dropout_02')(x)\n",
    "output = Dense(num_classes, activation='softmax',name = 'Dense_02')(x)"
   ]
  },
  {
   "cell_type": "code",
   "execution_count": 28,
   "metadata": {
    "collapsed": true
   },
   "outputs": [],
   "source": [
    "\n",
    "Inp = Input(shape=input_shape,name = 'Input_layer')\n",
    "\n",
    "#ConvBlock 01\n",
    "conv01 = Conv2D(32, (3, 3), padding='same',activation = 'relu', input_shape=Inp.shape,name = 'Conv01_layer')(Inp)\n",
    "conv02 = Conv2D(32, (3, 3),activation = 'relu',name = 'Conv02_layer')(conv01)\n",
    "maxpool_01 = MaxPooling2D(pool_size=(2, 2),name = 'MaxPool01_layer')(conv02)\n",
    "drop01 = BatchNormalization()(maxpool_01)\n",
    "#drop01 = Dropout(0.25,name = 'Dropout01_layer')(drop01)\n",
    "\n",
    "#Convblock 02\n",
    "conv03 = Conv2D(64, (3, 3), padding='same',activation = 'relu',name = 'Conv03_layer')(drop01)\n",
    "conv04 = Conv2D(64, (3, 3),activation = 'relu',name = 'Conv04_layer')(conv03)\n",
    "maxpool_02 = MaxPooling2D(pool_size=(2, 2),name = 'MaxPool02_layer')(conv04)\n",
    "drop02 = BatchNormalization()(maxpool_02)\n",
    "drop02 = Dropout(0.25,name = 'Dropout02_layer')(drop02)\n",
    "\n",
    "\n",
    "# Fully Connected Dense block\n",
    "x = Flatten(name = 'Flatten_layer')(drop02)\n",
    "x = Dense(512, activation='relu',name = 'Dense01_layer')(x)\n",
    "x = BatchNormalization()(x)\n",
    "x = Dropout(0.5,name = 'Dropout03_layer')(x)\n",
    "logits_layer = Dense(num_classes, name= 'logits_layer')(x)\n",
    "output = Activation('softmax',name = 'Sofftmax_layer')(logits_layer)"
   ]
  },
  {
   "cell_type": "code",
   "execution_count": 29,
   "metadata": {
    "collapsed": true
   },
   "outputs": [],
   "source": [
    "model = Model(Inp,output)"
   ]
  },
  {
   "cell_type": "code",
   "execution_count": 30,
   "metadata": {
    "collapsed": false
   },
   "outputs": [
    {
     "name": "stdout",
     "output_type": "stream",
     "text": [
      "_________________________________________________________________\n",
      "Layer (type)                 Output Shape              Param #   \n",
      "=================================================================\n",
      "Input_layer (InputLayer)     (None, 28, 28, 1)         0         \n",
      "_________________________________________________________________\n",
      "Conv01_layer (Conv2D)        (None, 28, 28, 32)        320       \n",
      "_________________________________________________________________\n",
      "Conv02_layer (Conv2D)        (None, 26, 26, 32)        9248      \n",
      "_________________________________________________________________\n",
      "MaxPool01_layer (MaxPooling2 (None, 13, 13, 32)        0         \n",
      "_________________________________________________________________\n",
      "batch_normalization_5 (Batch (None, 13, 13, 32)        128       \n",
      "_________________________________________________________________\n",
      "Conv03_layer (Conv2D)        (None, 13, 13, 64)        18496     \n",
      "_________________________________________________________________\n",
      "Conv04_layer (Conv2D)        (None, 11, 11, 64)        36928     \n",
      "_________________________________________________________________\n",
      "MaxPool02_layer (MaxPooling2 (None, 5, 5, 64)          0         \n",
      "_________________________________________________________________\n",
      "batch_normalization_6 (Batch (None, 5, 5, 64)          256       \n",
      "_________________________________________________________________\n",
      "Dropout02_layer (Dropout)    (None, 5, 5, 64)          0         \n",
      "_________________________________________________________________\n",
      "Flatten_layer (Flatten)      (None, 1600)              0         \n",
      "_________________________________________________________________\n",
      "Dense01_layer (Dense)        (None, 512)               819712    \n",
      "_________________________________________________________________\n",
      "batch_normalization_7 (Batch (None, 512)               2048      \n",
      "_________________________________________________________________\n",
      "Dropout03_layer (Dropout)    (None, 512)               0         \n",
      "_________________________________________________________________\n",
      "logits_layer (Dense)         (None, 40)                20520     \n",
      "_________________________________________________________________\n",
      "Sofftmax_layer (Activation)  (None, 40)                0         \n",
      "=================================================================\n",
      "Total params: 907,656\n",
      "Trainable params: 906,440\n",
      "Non-trainable params: 1,216\n",
      "_________________________________________________________________\n"
     ]
    }
   ],
   "source": [
    "model.summary()"
   ]
  },
  {
   "cell_type": "code",
   "execution_count": 31,
   "metadata": {
    "collapsed": true
   },
   "outputs": [],
   "source": [
    "#opt = keras.optimizers.rmsprop()\n",
    "opt = keras.optimizers.Adadelta()\n",
    "model.compile(loss=keras.losses.categorical_crossentropy,\n",
    "              optimizer=opt,\n",
    "              metrics=['accuracy'])"
   ]
  },
  {
   "cell_type": "code",
   "execution_count": 32,
   "metadata": {
    "collapsed": true
   },
   "outputs": [],
   "source": [
    "batch_size = 128\n",
    "epochs = 10"
   ]
  },
  {
   "cell_type": "code",
   "execution_count": 33,
   "metadata": {
    "collapsed": false
   },
   "outputs": [
    {
     "name": "stdout",
     "output_type": "stream",
     "text": [
      "Train on 64000 samples, validate on 16000 samples\n",
      "Epoch 1/10\n",
      "64000/64000 [==============================] - 310s - loss: 2.0135 - acc: 0.4982 - val_loss: 2.3986 - val_acc: 0.3634\n",
      "Epoch 2/10\n",
      "64000/64000 [==============================] - 298s - loss: 1.2654 - acc: 0.6636 - val_loss: 0.9729 - val_acc: 0.7369\n",
      "Epoch 3/10\n",
      "64000/64000 [==============================] - 299s - loss: 1.0461 - acc: 0.7180 - val_loss: 0.8955 - val_acc: 0.7576\n",
      "Epoch 4/10\n",
      "64000/64000 [==============================] - 282s - loss: 0.9242 - acc: 0.7480 - val_loss: 0.8462 - val_acc: 0.7704\n",
      "Epoch 5/10\n",
      "64000/64000 [==============================] - 262s - loss: 0.8344 - acc: 0.7711 - val_loss: 0.8044 - val_acc: 0.7782\n",
      "Epoch 6/10\n",
      "64000/64000 [==============================] - 284s - loss: 0.7685 - acc: 0.7871 - val_loss: 0.7975 - val_acc: 0.7795\n",
      "Epoch 7/10\n",
      "64000/64000 [==============================] - 300s - loss: 0.7239 - acc: 0.7989 - val_loss: 0.7452 - val_acc: 0.7947\n",
      "Epoch 8/10\n",
      "64000/64000 [==============================] - 273s - loss: 0.6774 - acc: 0.8087 - val_loss: 0.7523 - val_acc: 0.7953\n",
      "Epoch 9/10\n",
      "64000/64000 [==============================] - 301s - loss: 0.6423 - acc: 0.8177 - val_loss: 0.7319 - val_acc: 0.7997\n",
      "Epoch 10/10\n",
      "64000/64000 [==============================] - 310s - loss: 0.6089 - acc: 0.8275 - val_loss: 0.7198 - val_acc: 0.8001\n"
     ]
    }
   ],
   "source": [
    "hist = model.fit(x_train, y_train,\n",
    "          batch_size=batch_size,\n",
    "          epochs=epochs,\n",
    "          verbose=1,\n",
    "          validation_data=(x_test, y_test))"
   ]
  },
  {
   "cell_type": "code",
   "execution_count": 36,
   "metadata": {
    "collapsed": false
   },
   "outputs": [
    {
     "name": "stdout",
     "output_type": "stream",
     "text": [
      "16000/16000 [==============================] - 22s    \n",
      "Model Accuracy = 0.80\n",
      "Model Loss = 0.72\n"
     ]
    }
   ],
   "source": [
    "# Evaluate model with test data set and share sample prediction results\n",
    "evaluation = model.evaluate(x_test, y_test,\n",
    "          batch_size=batch_size)\n",
    "print('Model Accuracy = %.2f' % (evaluation[1]))\n",
    "print('Model Loss = %.2f' % (evaluation[0]))"
   ]
  },
  {
   "cell_type": "code",
   "execution_count": 35,
   "metadata": {
    "collapsed": true
   },
   "outputs": [],
   "source": [
    "preds = model.predict(x_test)"
   ]
  },
  {
   "cell_type": "code",
   "execution_count": 34,
   "metadata": {
    "collapsed": false
   },
   "outputs": [
    {
     "data": {
      "text/html": [
       "<div>\n",
       "<style>\n",
       "    .dataframe thead tr:only-child th {\n",
       "        text-align: right;\n",
       "    }\n",
       "\n",
       "    .dataframe thead th {\n",
       "        text-align: left;\n",
       "    }\n",
       "\n",
       "    .dataframe tbody tr th {\n",
       "        vertical-align: top;\n",
       "    }\n",
       "</style>\n",
       "<table border=\"1\" class=\"dataframe\">\n",
       "  <thead>\n",
       "    <tr style=\"text-align: right;\">\n",
       "      <th></th>\n",
       "      <th>0</th>\n",
       "      <th>1</th>\n",
       "    </tr>\n",
       "  </thead>\n",
       "  <tbody>\n",
       "    <tr>\n",
       "      <th>0</th>\n",
       "      <td>0.024594</td>\n",
       "      <td>0.026625</td>\n",
       "    </tr>\n",
       "    <tr>\n",
       "      <th>1</th>\n",
       "      <td>0.025250</td>\n",
       "      <td>0.024000</td>\n",
       "    </tr>\n",
       "    <tr>\n",
       "      <th>2</th>\n",
       "      <td>0.025344</td>\n",
       "      <td>0.023625</td>\n",
       "    </tr>\n",
       "    <tr>\n",
       "      <th>3</th>\n",
       "      <td>0.025078</td>\n",
       "      <td>0.024688</td>\n",
       "    </tr>\n",
       "    <tr>\n",
       "      <th>4</th>\n",
       "      <td>0.025141</td>\n",
       "      <td>0.024438</td>\n",
       "    </tr>\n",
       "    <tr>\n",
       "      <th>5</th>\n",
       "      <td>0.025047</td>\n",
       "      <td>0.024813</td>\n",
       "    </tr>\n",
       "    <tr>\n",
       "      <th>6</th>\n",
       "      <td>0.024766</td>\n",
       "      <td>0.025937</td>\n",
       "    </tr>\n",
       "    <tr>\n",
       "      <th>7</th>\n",
       "      <td>0.025094</td>\n",
       "      <td>0.024625</td>\n",
       "    </tr>\n",
       "    <tr>\n",
       "      <th>8</th>\n",
       "      <td>0.025313</td>\n",
       "      <td>0.023750</td>\n",
       "    </tr>\n",
       "    <tr>\n",
       "      <th>9</th>\n",
       "      <td>0.025047</td>\n",
       "      <td>0.024813</td>\n",
       "    </tr>\n",
       "    <tr>\n",
       "      <th>10</th>\n",
       "      <td>0.025219</td>\n",
       "      <td>0.024125</td>\n",
       "    </tr>\n",
       "    <tr>\n",
       "      <th>11</th>\n",
       "      <td>0.024734</td>\n",
       "      <td>0.026062</td>\n",
       "    </tr>\n",
       "    <tr>\n",
       "      <th>12</th>\n",
       "      <td>0.025094</td>\n",
       "      <td>0.024625</td>\n",
       "    </tr>\n",
       "    <tr>\n",
       "      <th>13</th>\n",
       "      <td>0.024063</td>\n",
       "      <td>0.028750</td>\n",
       "    </tr>\n",
       "    <tr>\n",
       "      <th>14</th>\n",
       "      <td>0.025219</td>\n",
       "      <td>0.024125</td>\n",
       "    </tr>\n",
       "    <tr>\n",
       "      <th>15</th>\n",
       "      <td>0.025094</td>\n",
       "      <td>0.024625</td>\n",
       "    </tr>\n",
       "    <tr>\n",
       "      <th>16</th>\n",
       "      <td>0.025109</td>\n",
       "      <td>0.024563</td>\n",
       "    </tr>\n",
       "    <tr>\n",
       "      <th>17</th>\n",
       "      <td>0.025359</td>\n",
       "      <td>0.023563</td>\n",
       "    </tr>\n",
       "    <tr>\n",
       "      <th>18</th>\n",
       "      <td>0.024875</td>\n",
       "      <td>0.025500</td>\n",
       "    </tr>\n",
       "    <tr>\n",
       "      <th>19</th>\n",
       "      <td>0.025422</td>\n",
       "      <td>0.023312</td>\n",
       "    </tr>\n",
       "    <tr>\n",
       "      <th>20</th>\n",
       "      <td>0.025453</td>\n",
       "      <td>0.023187</td>\n",
       "    </tr>\n",
       "    <tr>\n",
       "      <th>21</th>\n",
       "      <td>0.024406</td>\n",
       "      <td>0.027375</td>\n",
       "    </tr>\n",
       "    <tr>\n",
       "      <th>22</th>\n",
       "      <td>0.024844</td>\n",
       "      <td>0.025625</td>\n",
       "    </tr>\n",
       "    <tr>\n",
       "      <th>23</th>\n",
       "      <td>0.024875</td>\n",
       "      <td>0.025500</td>\n",
       "    </tr>\n",
       "    <tr>\n",
       "      <th>24</th>\n",
       "      <td>0.025031</td>\n",
       "      <td>0.024875</td>\n",
       "    </tr>\n",
       "    <tr>\n",
       "      <th>25</th>\n",
       "      <td>0.024813</td>\n",
       "      <td>0.025750</td>\n",
       "    </tr>\n",
       "    <tr>\n",
       "      <th>26</th>\n",
       "      <td>0.025156</td>\n",
       "      <td>0.024375</td>\n",
       "    </tr>\n",
       "    <tr>\n",
       "      <th>27</th>\n",
       "      <td>0.025172</td>\n",
       "      <td>0.024313</td>\n",
       "    </tr>\n",
       "    <tr>\n",
       "      <th>28</th>\n",
       "      <td>0.024641</td>\n",
       "      <td>0.026437</td>\n",
       "    </tr>\n",
       "    <tr>\n",
       "      <th>29</th>\n",
       "      <td>0.025641</td>\n",
       "      <td>0.022437</td>\n",
       "    </tr>\n",
       "    <tr>\n",
       "      <th>30</th>\n",
       "      <td>0.024578</td>\n",
       "      <td>0.026687</td>\n",
       "    </tr>\n",
       "    <tr>\n",
       "      <th>31</th>\n",
       "      <td>0.024594</td>\n",
       "      <td>0.026625</td>\n",
       "    </tr>\n",
       "    <tr>\n",
       "      <th>32</th>\n",
       "      <td>0.024984</td>\n",
       "      <td>0.025063</td>\n",
       "    </tr>\n",
       "    <tr>\n",
       "      <th>33</th>\n",
       "      <td>0.024938</td>\n",
       "      <td>0.025250</td>\n",
       "    </tr>\n",
       "    <tr>\n",
       "      <th>34</th>\n",
       "      <td>0.025031</td>\n",
       "      <td>0.024875</td>\n",
       "    </tr>\n",
       "    <tr>\n",
       "      <th>35</th>\n",
       "      <td>0.024547</td>\n",
       "      <td>0.026812</td>\n",
       "    </tr>\n",
       "    <tr>\n",
       "      <th>36</th>\n",
       "      <td>0.024953</td>\n",
       "      <td>0.025188</td>\n",
       "    </tr>\n",
       "    <tr>\n",
       "      <th>37</th>\n",
       "      <td>0.025016</td>\n",
       "      <td>0.024938</td>\n",
       "    </tr>\n",
       "    <tr>\n",
       "      <th>38</th>\n",
       "      <td>0.025359</td>\n",
       "      <td>0.023563</td>\n",
       "    </tr>\n",
       "    <tr>\n",
       "      <th>39</th>\n",
       "      <td>0.025109</td>\n",
       "      <td>0.024563</td>\n",
       "    </tr>\n",
       "  </tbody>\n",
       "</table>\n",
       "</div>"
      ],
      "text/plain": [
       "           0         1\n",
       "0   0.024594  0.026625\n",
       "1   0.025250  0.024000\n",
       "2   0.025344  0.023625\n",
       "3   0.025078  0.024688\n",
       "4   0.025141  0.024438\n",
       "5   0.025047  0.024813\n",
       "6   0.024766  0.025937\n",
       "7   0.025094  0.024625\n",
       "8   0.025313  0.023750\n",
       "9   0.025047  0.024813\n",
       "10  0.025219  0.024125\n",
       "11  0.024734  0.026062\n",
       "12  0.025094  0.024625\n",
       "13  0.024063  0.028750\n",
       "14  0.025219  0.024125\n",
       "15  0.025094  0.024625\n",
       "16  0.025109  0.024563\n",
       "17  0.025359  0.023563\n",
       "18  0.024875  0.025500\n",
       "19  0.025422  0.023312\n",
       "20  0.025453  0.023187\n",
       "21  0.024406  0.027375\n",
       "22  0.024844  0.025625\n",
       "23  0.024875  0.025500\n",
       "24  0.025031  0.024875\n",
       "25  0.024813  0.025750\n",
       "26  0.025156  0.024375\n",
       "27  0.025172  0.024313\n",
       "28  0.024641  0.026437\n",
       "29  0.025641  0.022437\n",
       "30  0.024578  0.026687\n",
       "31  0.024594  0.026625\n",
       "32  0.024984  0.025063\n",
       "33  0.024938  0.025250\n",
       "34  0.025031  0.024875\n",
       "35  0.024547  0.026812\n",
       "36  0.024953  0.025188\n",
       "37  0.025016  0.024938\n",
       "38  0.025359  0.023563\n",
       "39  0.025109  0.024563"
      ]
     },
     "execution_count": 34,
     "metadata": {},
     "output_type": "execute_result"
    }
   ],
   "source": [
    "pd.concat([pd.DataFrame(y_train).mean(), pd.DataFrame(y_test).mean()], axis=1)"
   ]
  },
  {
   "cell_type": "code",
   "execution_count": 69,
   "metadata": {
    "collapsed": true
   },
   "outputs": [],
   "source": [
    "def get_topn_preds(itemid, n=5):\n",
    "    print (classes[np.where(y_test[itemid]==1)[0][0]])\n",
    "    return (sorted(zip(preds[itemid], classes), reverse=True)[:n])"
   ]
  },
  {
   "cell_type": "code",
   "execution_count": 70,
   "metadata": {
    "collapsed": false
   },
   "outputs": [
    {
     "name": "stdout",
     "output_type": "stream",
     "text": [
      "ant\n"
     ]
    },
    {
     "data": {
      "text/plain": [
       "[(0.9568345, 'ant'),\n",
       " (0.014659992, 'bandage'),\n",
       " (0.0076032807, 'airplane'),\n",
       " (0.004216772, 'bee'),\n",
       " (0.0026155228, 'bowtie')]"
      ]
     },
     "execution_count": 70,
     "metadata": {},
     "output_type": "execute_result"
    }
   ],
   "source": [
    "get_topn_preds(0)"
   ]
  },
  {
   "cell_type": "code",
   "execution_count": 71,
   "metadata": {
    "collapsed": false
   },
   "outputs": [
    {
     "name": "stdout",
     "output_type": "stream",
     "text": [
      "bus\n"
     ]
    },
    {
     "data": {
      "text/plain": [
       "[(0.92013717, 'bus'),\n",
       " (0.022080785, 'ambulance'),\n",
       " (0.016726423, 'bulldozer'),\n",
       " (0.012242624, 'bear'),\n",
       " (0.0082468167, 'bottlecap')]"
      ]
     },
     "execution_count": 71,
     "metadata": {},
     "output_type": "execute_result"
    }
   ],
   "source": [
    "get_topn_preds(1)"
   ]
  },
  {
   "cell_type": "code",
   "execution_count": 82,
   "metadata": {
    "collapsed": true
   },
   "outputs": [],
   "source": [
    "from sklearn.metrics import confusion_matrix\n",
    "y_preds = preds.argmax(axis=-1)\n",
    "y_true = y_test.argmax(axis=-1)\n",
    "cnf_mat = confusion_matrix(y_preds, y_true )"
   ]
  },
  {
   "cell_type": "code",
   "execution_count": 90,
   "metadata": {
    "collapsed": false
   },
   "outputs": [
    {
     "name": "stdout",
     "output_type": "stream",
     "text": [
      "[[371   0   0   2   6   7   0   0   1   1   2   2   1   0   0   1  10   6\n",
      "    1   1   4   2   1   2   0   2   0   1   1   2   2   1   1   2   0   1\n",
      "    0   1   5   0]\n",
      " [  1 317   1   2   0   0  16   0   0   0   1   0   0   0   1   2   1  27\n",
      "    3   0   2   3   0   3   2  28   0   1   2   0   4   3   1   1   0   0\n",
      "    1   2   0   0]\n",
      " [  1   1 320   1   0   3   0   0   0   0   1   0   1   0   0   0   0   1\n",
      "    0   0   0   5   0   1   0   0   0   0   0   0   4   0   0   0  10  20\n",
      "    1   1   0   0]\n",
      " [  1   3   0 333   5   1   0   4   1   1   0   0   2   0   1   0   3   7\n",
      "    0   1   3   0   0   1   1   3   0   0   3   1   4   1   0   1   1   0\n",
      "    0   3   2   1]\n",
      " [  0   3   0   2 313   1   0   0   0   0   1   0   1   1   1   1  10   7\n",
      "    1   2   7   1   0   2   1   3   0   1   0   2   6   0   1   0   1   1\n",
      "    2   5   0   0]\n",
      " [  3   0   0   1   1 351   0   0   0   1   0   1   0   0   0   1   4   1\n",
      "    0   1   0   6   0   0   0   0   0   5   1   0   1   0   3   0   0   0\n",
      "    1   0   0   0]\n",
      " [  0   4   0   0   0   0 367   0   1   0   0   0   0   0   0   0   0   3\n",
      "    0   0   0   0   0   0   2  24   0   1   0   0   0   0   2   0   0   0\n",
      "    0   0   0   0]\n",
      " [  0   0   1   1   1   1   1 341   1   2   0   7   2   2   1   1   1   2\n",
      "    0   0   1   1   0   1   0   0   0   4  10   1   3   1   2   2   1   0\n",
      "    0   0   2   0]\n",
      " [  0   0   0   0   1   0   0   0 343   2   0   3   0   1   0   2   1   0\n",
      "    1   0   0   0   0   0   0   0   0  30   0   2   0   0   0   0   0   0\n",
      "    0   0   0   0]\n",
      " [  2   2   2   1   2   1   0   2   0 317   2   3   0   0   0   0   0   1\n",
      "    2   1   2   6   0   3   0   0   0   0   0   3   3   2  26   0   1   0\n",
      "    3   0   1   1]\n",
      " [  0   1   0   1   2   3   0   0   0   0 341   0   0   5   1   1   0   0\n",
      "    0   2   1   1   0   1   0   0   2   1   7   1   0   1   8   0   0   2\n",
      "    1   0   3   2]\n",
      " [  1   0   0   0   1   1   0   4   3   0   0 343   5   0   0   1   0   0\n",
      "    0   0   1   1   1   1   0   1   0   3   0   1   0   0   2   3   0   0\n",
      "    0   0   3   0]\n",
      " [  0   1   0   2   0   0   0   1   1   3   0   3 255   3  11   0   0   0\n",
      "    1   0   0   0   0   0   0   8   1   5   2   0   3   4   5   0   0   0\n",
      "    2   1   1   0]\n",
      " [  1   0   2   0   0   2   1   1   0   2   5   1   1 373   6   2   0   1\n",
      "   24   3   3   8   0   1   1   3   4   0  11   0   0   2   2   1   3   4\n",
      "    0   0   1   2]\n",
      " [  0   1   0   0   0   0   0   3   1   0   6   0  95  12 340   1   0   0\n",
      "    5   1   3   2   1   5   0   3   1   1   3   0   5  16   0   0   0   1\n",
      "    1   4   0   2]\n",
      " [  1   1   0   1   1   4   0   0   3   2   0   2   0   5   0 316   5   0\n",
      "    2  10   0   5   0   1   3   1   1   1   6   0   0   1   1   0   0   0\n",
      "    0   0   0   0]\n",
      " [  1   0   0   1   3   0   1   0   0   0   1   0   0   0   0   3 281   1\n",
      "    0   0   1   2   1   0   0   0   0   2   1   1   1   0   0   1   0   2\n",
      "    1   0   0   0]\n",
      " [  6  11   1  10   3   3   3   1   1   3   1   2   0   2   0   1   3 253\n",
      "    4   0   5   0   1   4   2  12   0   1   7   2   3   2   1   0   1   1\n",
      "    7   0   4   0]\n",
      " [  0   2   0   1   0   0   0   0   5   5   1   2   0   9   1   2   0   6\n",
      "  324   0   1   3   1   3   0   3   2   1   1   1   6   6   4   0   2   1\n",
      "    5   0   3   1]\n",
      " [  3   0   1   1   2   1   1   8   0   4   2   5   1   0   3  18   7   5\n",
      "    2 322   0   3   0   1   0   0   3   0   1   2   1   1   4   1   2   1\n",
      "    2   0   0   0]\n",
      " [ 11   4   0   8  14   0   0   0   1   8   1   1   0   3   3   1   1   5\n",
      "    0   0 308   1   3   3   1   6   1   0   2   1   3   0   4   2   4   1\n",
      "    5   4   3   0]\n",
      " [  6   0   3   2   4   4   0   3   1  13   2   8   1   2   0   3  31   3\n",
      "    5   3   2 344   1   2   1   0   0   1  10   5  15   3   4   3   1   2\n",
      "    3   0   0   1]\n",
      " [  0   1   0   1   1   0   1   0   0   0   0   1   0   2   1   1   1   1\n",
      "    0   0   1   2 374   2   1   7   0   0   0   1   1   0   1   0   6   0\n",
      "    0   0   0   0]\n",
      " [  1   1   2   2   4   2   1   1   1   2   1   1   6   4   3   2   1   6\n",
      "    3   0   0   5  11 337   0  16   2   8   3   6   4   3   9   0   7   3\n",
      "    4   3   3   0]\n",
      " [  0   2   1   0   0   0   1   0   1   0   1   0   0   0   0   2   0   0\n",
      "    0   0   0   0   0   0 186   3   1   0   0   0   0   0   0   1   0   0\n",
      "    0   1   2  98]\n",
      " [  1   7   0   1   2   1  14   0   0   2   0   2   0   2   3   0   1   2\n",
      "    1   0   3   1   2   1   2 234   0   2   2   0   8   6   3   0   1   0\n",
      "    3   1   0   0]\n",
      " [  0   2   3   1   1   1   0   2   0   0   5   0   0   2   0   0   0   0\n",
      "    3   3   0   2   0   1   0   1 352   1   1   2   1   4  10   1   0   0\n",
      "    0   0   0   0]\n",
      " [  1   0   0   0   1   0   0   3   6   0   0   2   0   0   0   0   0   1\n",
      "    1   0   0   1   0   0   0   0   0 303   0   0   1   2   1   0   0   0\n",
      "    0   0   0   0]\n",
      " [  2   1   0   2   1   2   2   4   3   1   1   2   1   7   2   6   3  12\n",
      "    1   6   0   5   1   1   4   4   2   2 275   2  19   1   7   1   1   0\n",
      "    9   0   1   2]\n",
      " [  1   0   0   0   4   0   0   2   1   1   0   2   2   1   0   1   1   0\n",
      "    0   0   0   1   0   2   0   2   0   3   0 315   1   1   2   0   2   0\n",
      "    3   5   1   0]\n",
      " [  0   3   1   0   2   0   1   2   1   1   0   1   7   1   3   1   1   5\n",
      "    4   3   0  13   1   2   1   9   4   3  31   1 303   4   4   2   0   0\n",
      "    9   1   0   1]\n",
      " [  0   5   4   1   0   1   1   0   0   7   0   2   5   4   4   2   2   7\n",
      "    5   1   3   5   0  11   1  14   4   1  10   0   3 327   8   0   3   0\n",
      "   39   1   3   4]\n",
      " [  1   0   1   1   0   1   0   0   1   5   3   4   3   2   1   3   0   3\n",
      "    4   2   0   1   0   0   0   4   2   4   9   2   4   3 274   1   0   0\n",
      "    3   0   0   1]\n",
      " [  0   0   1   0   6   0   1   8   2   2   0  10   1   1   0   3   0   0\n",
      "    2   0   1   3   0   1   0   3   0   0   3   1   3   0   2 374   0   0\n",
      "    1   0   2   0]\n",
      " [  5   1   6   1   2   3   0   0   0   3   2   3   2   2   0   3   4   3\n",
      "    2   3   5   1   5   8   4   4   1   1   3   1   1   1   0   3 338   1\n",
      "    8   1   1   3]\n",
      " [  0   2  24   0   0   0   0   0   0   1   0   0   1   2   0   2   4   1\n",
      "    0   4   0   0   3   2   0   0   0   1   7   0   1   0   1   0   5 387\n",
      "    2   0   0   0]\n",
      " [  1   3   2   0   5   2   0   2   0   3   4   2   1   4   0   2  15   2\n",
      "    4   0   5   1   1   4   0   8   0   0   5   0   8  26   4   1   4   1\n",
      "  284   1   3   1]\n",
      " [  1   0   1  11   2   0   3   0   0   1   0   0   0   0   0   0   0   2\n",
      "    2   0   7   0   2   1   0   5   3   0   0   3   2   1   1   0   0   0\n",
      "    3 364   3   0]\n",
      " [  2   2   0   3   1   1   0   2   1   2   1   2   0   0   0   1   1   2\n",
      "    1   0   2   2   0   0   0   0   0   1   1   0   3   2   2   3   0   0\n",
      "    0   0 330   1]\n",
      " [  1   3   1   1   0   0   0   0   0   2   1   0   0   8   0   8   1   1\n",
      "    0   4   0   1   0   0 185   1   4   0   5   0   0   1   1   0   4   0\n",
      "    0   0   0 272]]\n"
     ]
    }
   ],
   "source": [
    "np.set_printoptions(threshold=np.inf)\n",
    "\n",
    "print(cnf_mat)"
   ]
  },
  {
   "cell_type": "code",
   "execution_count": 92,
   "metadata": {
    "collapsed": false
   },
   "outputs": [
    {
     "data": {
      "text/plain": [
       "'birthday cake'"
      ]
     },
     "execution_count": 92,
     "metadata": {},
     "output_type": "execute_result"
    }
   ],
   "source": [
    "classes[-16]"
   ]
  },
  {
   "cell_type": "code",
   "execution_count": null,
   "metadata": {
    "collapsed": true
   },
   "outputs": [],
   "source": []
  }
 ],
 "metadata": {
  "anaconda-cloud": {},
  "kernelspec": {
   "display_name": "Python [conda env:tfkeras]",
   "language": "python",
   "name": "conda-env-tfkeras-py"
  },
  "language_info": {
   "codemirror_mode": {
    "name": "ipython",
    "version": 3
   },
   "file_extension": ".py",
   "mimetype": "text/x-python",
   "name": "python",
   "nbconvert_exporter": "python",
   "pygments_lexer": "ipython3",
   "version": "3.5.3"
  }
 },
 "nbformat": 4,
 "nbformat_minor": 2
}
